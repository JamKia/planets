{
  "nbformat": 4,
  "nbformat_minor": 0,
  "metadata": {
    "colab": {
      "name": "MatrixAlgebra.ipynb",
      "provenance": [],
      "collapsed_sections": [],
      "authorship_tag": "ABX9TyM1B5sg2XFe1QHhoWsvE67M",
      "include_colab_link": true
    },
    "kernelspec": {
      "name": "python3",
      "display_name": "Python 3"
    },
    "language_info": {
      "name": "python"
    }
  },
  "cells": [
    {
      "cell_type": "markdown",
      "metadata": {
        "id": "view-in-github",
        "colab_type": "text"
      },
      "source": [
        "<a href=\"https://colab.research.google.com/github/JamKia/planets/blob/main/MatrixAlgebra.ipynb\" target=\"_parent\"><img src=\"https://colab.research.google.com/assets/colab-badge.svg\" alt=\"Open In Colab\"/></a>"
      ]
    },
    {
      "cell_type": "code",
      "execution_count": null,
      "metadata": {
        "id": "O9DY74ynLw6D"
      },
      "outputs": [],
      "source": [
        "import numpy as np\n",
        "import scipy"
      ]
    },
    {
      "cell_type": "code",
      "source": [
        "a = np.array([1,3,-2,1])\n",
        "print(a)"
      ],
      "metadata": {
        "colab": {
          "base_uri": "https://localhost:8080/"
        },
        "id": "SebdbhHqMOWx",
        "outputId": "454c3fc4-9bc2-4408-8c3c-62a05872b531"
      },
      "execution_count": null,
      "outputs": [
        {
          "output_type": "stream",
          "name": "stdout",
          "text": [
            "[ 1  3 -2  1]\n"
          ]
        }
      ]
    },
    {
      "cell_type": "code",
      "source": [
        "a.ndim # Verify the number of dimensions of the slice"
      ],
      "metadata": {
        "colab": {
          "base_uri": "https://localhost:8080/",
          "height": 37
        },
        "id": "6LkP7mUONnDE",
        "outputId": "1bd99e79-6069-4f5b-8269-b2ddb5cff5f5"
      },
      "execution_count": null,
      "outputs": [
        {
          "output_type": "execute_result",
          "data": {
            "text/plain": [
              "1"
            ],
            "text/latex": "$\\displaystyle 1$"
          },
          "metadata": {},
          "execution_count": 141
        }
      ]
    },
    {
      "cell_type": "code",
      "source": [
        "print(len(a.shape))\n",
        "a.shape"
      ],
      "metadata": {
        "colab": {
          "base_uri": "https://localhost:8080/",
          "height": 54
        },
        "id": "M8Sq6BSBNyUJ",
        "outputId": "c2919340-f103-4062-c09d-53bd9e54e47e"
      },
      "execution_count": null,
      "outputs": [
        {
          "output_type": "stream",
          "name": "stdout",
          "text": [
            "1\n"
          ]
        },
        {
          "output_type": "execute_result",
          "data": {
            "text/plain": [
              "(4,)"
            ],
            "text/latex": "$\\displaystyle \\left( 4,\\right)$"
          },
          "metadata": {},
          "execution_count": 142
        }
      ]
    },
    {
      "cell_type": "code",
      "source": [
        "a.size # the total number of entries in the array"
      ],
      "metadata": {
        "colab": {
          "base_uri": "https://localhost:8080/",
          "height": 37
        },
        "id": "bkK8JgMcN7tG",
        "outputId": "2f3fecaf-f5fe-4d3e-d908-ace101d66d61"
      },
      "execution_count": null,
      "outputs": [
        {
          "output_type": "execute_result",
          "data": {
            "text/plain": [
              "4"
            ],
            "text/latex": "$\\displaystyle 4$"
          },
          "metadata": {},
          "execution_count": 143
        }
      ]
    },
    {
      "cell_type": "code",
      "source": [
        "M = np.array( [[1,2], [3,7], [-1,5]])\n",
        "print(M)"
      ],
      "metadata": {
        "colab": {
          "base_uri": "https://localhost:8080/"
        },
        "id": "FUMWGXLpOSWL",
        "outputId": "532aa4a9-fb48-4938-ba5d-edc9035c5b4f"
      },
      "execution_count": null,
      "outputs": [
        {
          "output_type": "stream",
          "name": "stdout",
          "text": [
            "[[ 1  2]\n",
            " [ 3  7]\n",
            " [-1  5]]\n"
          ]
        }
      ]
    },
    {
      "cell_type": "code",
      "source": [
        "# One useful argument in reshape is -1, which effectively means “as many as needed,” so reshape(1, -1) means one row and as many columns as needed:\n",
        "A = M.copy()\n",
        "A.reshape(M.size, -1)"
      ],
      "metadata": {
        "colab": {
          "base_uri": "https://localhost:8080/"
        },
        "id": "JI3FW_qxEv0Q",
        "outputId": "2636b63d-7d8a-4306-d66c-8ea6fc6fdf16"
      },
      "execution_count": null,
      "outputs": [
        {
          "output_type": "execute_result",
          "data": {
            "text/plain": [
              "array([[ 1],\n",
              "       [ 2],\n",
              "       [ 3],\n",
              "       [ 7],\n",
              "       [-1],\n",
              "       [ 5]])"
            ]
          },
          "metadata": {},
          "execution_count": 152
        }
      ]
    },
    {
      "cell_type": "code",
      "source": [
        "A = M.copy()\n",
        "A.flatten()"
      ],
      "metadata": {
        "colab": {
          "base_uri": "https://localhost:8080/",
          "height": 37
        },
        "id": "6GfzxjGTE9M3",
        "outputId": "fd081fee-9d4b-46b0-f9e9-46125bc40204"
      },
      "execution_count": null,
      "outputs": [
        {
          "output_type": "execute_result",
          "data": {
            "text/plain": [
              "(6,)"
            ],
            "text/latex": "$\\displaystyle \\left( 6,\\right)$"
          },
          "metadata": {},
          "execution_count": 160
        }
      ]
    },
    {
      "cell_type": "code",
      "source": [
        "Z = np.array([[1, 4], [2, 5]])\n",
        "\n",
        "I = Z @ np.linalg.inv(Z)\n",
        "I[I<0.00001] = 0\n",
        "I"
      ],
      "metadata": {
        "colab": {
          "base_uri": "https://localhost:8080/"
        },
        "id": "1ANuoAiRF5EM",
        "outputId": "9bbc3949-972c-4bae-a75a-c27adef95ab5"
      },
      "execution_count": null,
      "outputs": [
        {
          "output_type": "execute_result",
          "data": {
            "text/plain": [
              "array([[1., 0.],\n",
              "       [0., 1.]])"
            ]
          },
          "metadata": {},
          "execution_count": 168
        }
      ]
    },
    {
      "cell_type": "code",
      "source": [
        "M.ndim # Verify the number of dimensions of the slice"
      ],
      "metadata": {
        "colab": {
          "base_uri": "https://localhost:8080/",
          "height": 37
        },
        "id": "oZ_oGteZQrv6",
        "outputId": "d15dbe88-b119-4e25-d17e-373ac0d5ec50"
      },
      "execution_count": null,
      "outputs": [
        {
          "output_type": "execute_result",
          "data": {
            "text/plain": [
              "2"
            ],
            "text/latex": "$\\displaystyle 2$"
          },
          "metadata": {},
          "execution_count": 153
        }
      ]
    },
    {
      "cell_type": "code",
      "source": [
        "M.shape"
      ],
      "metadata": {
        "colab": {
          "base_uri": "https://localhost:8080/",
          "height": 37
        },
        "id": "QgwNZC8SOhyb",
        "outputId": "d5017411-3c98-4795-ddb8-99f053842817"
      },
      "execution_count": null,
      "outputs": [
        {
          "output_type": "execute_result",
          "data": {
            "text/plain": [
              "(3, 2)"
            ],
            "text/latex": "$\\displaystyle \\left( 3, \\  2\\right)$"
          },
          "metadata": {},
          "execution_count": 154
        }
      ]
    },
    {
      "cell_type": "code",
      "source": [
        "M.size # the total number of entries in the array"
      ],
      "metadata": {
        "colab": {
          "base_uri": "https://localhost:8080/",
          "height": 37
        },
        "id": "CPWsrnzgPHP5",
        "outputId": "1705c49f-3d1f-40d2-a8df-94e9c1d6d474"
      },
      "execution_count": null,
      "outputs": [
        {
          "output_type": "execute_result",
          "data": {
            "text/plain": [
              "6"
            ],
            "text/latex": "$\\displaystyle 6$"
          },
          "metadata": {},
          "execution_count": 155
        }
      ]
    },
    {
      "cell_type": "code",
      "source": [
        "row = M[1,:]\n",
        "row"
      ],
      "metadata": {
        "colab": {
          "base_uri": "https://localhost:8080/"
        },
        "id": "dchfZnf3PI6c",
        "outputId": "5986d921-172a-4e06-e4e9-79fef466c7a7"
      },
      "execution_count": null,
      "outputs": [
        {
          "output_type": "execute_result",
          "data": {
            "text/plain": [
              "array([3, 7])"
            ]
          },
          "metadata": {},
          "execution_count": 156
        }
      ]
    },
    {
      "cell_type": "code",
      "source": [
        "col = M[:,1]\n",
        "col"
      ],
      "metadata": {
        "colab": {
          "base_uri": "https://localhost:8080/"
        },
        "id": "m1JoatYJPTfX",
        "outputId": "2b1839dd-03c5-4317-daaa-669833fcafb0"
      },
      "execution_count": null,
      "outputs": [
        {
          "output_type": "execute_result",
          "data": {
            "text/plain": [
              "array([2, 7, 5])"
            ]
          },
          "metadata": {},
          "execution_count": 157
        }
      ]
    },
    {
      "cell_type": "code",
      "source": [
        "col = M[:,1]\n",
        "print(col)\n",
        "print('Dimensions:',col.ndim) # Verify the number of dimensions of the slice\n",
        "print('Shape:',col.shape)\n",
        "print('Size:',col.size) # the total number of entries in the array\n",
        "\n",
        "column = np.array([2,7,5]).reshape(3,1)\n",
        "print(column)\n",
        "print('Dimension: ', column.ndim)\n",
        "print('Shape: ', column.shape)\n",
        "print('Size: ', column.size)"
      ],
      "metadata": {
        "colab": {
          "base_uri": "https://localhost:8080/"
        },
        "id": "-qv-iU9tYPd7",
        "outputId": "e89d53ad-0add-4c3d-f8d4-49f7d0b03c38"
      },
      "execution_count": null,
      "outputs": [
        {
          "output_type": "stream",
          "name": "stdout",
          "text": [
            "[2 7 5]\n",
            "Dimensions: 1\n",
            "Shape: (3,)\n",
            "Size: 3\n",
            "[[2]\n",
            " [7]\n",
            " [5]]\n",
            "Dimension:  2\n",
            "Shape:  (3, 1)\n",
            "Size:  3\n"
          ]
        }
      ]
    },
    {
      "cell_type": "code",
      "source": [
        "# Recall that arithmetic array operations +, -, /, * and ** are performed\n",
        "# elementwise on NumPy arrays.\n",
        "M = np.array([[3,4] , [-1,5]])\n",
        "print(M)\n",
        "print(M*M)\n",
        "print('matrix multiplication:\\n', M @ M) # zarbe khareji -> zarbe bordari"
      ],
      "metadata": {
        "colab": {
          "base_uri": "https://localhost:8080/"
        },
        "id": "0ocMMlp_YaNk",
        "outputId": "021a0852-f12d-4366-b120-e72e5b3d951d"
      },
      "execution_count": null,
      "outputs": [
        {
          "output_type": "stream",
          "name": "stdout",
          "text": [
            "[[ 3  4]\n",
            " [-1  5]]\n",
            "[[ 9 16]\n",
            " [ 1 25]]\n",
            "matrix multiplication:\n",
            " [[ 5 32]\n",
            " [-8 21]]\n"
          ]
        }
      ]
    },
    {
      "cell_type": "code",
      "source": [
        "A = np.array( [[1,3],[-1,7]] )\n",
        "B = np.array( [[5,2],[1,2]] )\n",
        "I = np.eye(A.ndim)\n",
        "print(I)\n",
        "2*I + 3*A - A@B"
      ],
      "metadata": {
        "colab": {
          "base_uri": "https://localhost:8080/"
        },
        "id": "jgPU8qCDcGHk",
        "outputId": "24faba06-bc60-404d-8493-d9cbbe5ee31a"
      },
      "execution_count": null,
      "outputs": [
        {
          "output_type": "stream",
          "name": "stdout",
          "text": [
            "[[1. 0.]\n",
            " [0. 1.]]\n"
          ]
        },
        {
          "output_type": "execute_result",
          "data": {
            "text/plain": [
              "array([[-3.,  1.],\n",
              "       [-5., 11.]])"
            ]
          },
          "metadata": {},
          "execution_count": 75
        }
      ]
    },
    {
      "cell_type": "code",
      "source": [
        "# Matrix Powers\n",
        "# There's no symbol for matrix powers and\n",
        "# so we must import the function matrix_power from the subpackage numpy.linalg.\n",
        "M = np.array( [[3,4],[-1,5]])\n",
        "print(M)\n",
        "np.linalg.matrix_power(M,2)\n",
        "print( np.linalg.matrix_power(M,5) )\n",
        "M@M@M@M@M == np.linalg.matrix_power(M,5)"
      ],
      "metadata": {
        "colab": {
          "base_uri": "https://localhost:8080/"
        },
        "id": "mNjdxfDwdPBe",
        "outputId": "6db5bbf7-47d1-4072-9091-e86763219140"
      },
      "execution_count": null,
      "outputs": [
        {
          "output_type": "stream",
          "name": "stdout",
          "text": [
            "[[ 3  4]\n",
            " [-1  5]]\n",
            "[[-1525  3236]\n",
            " [ -809    93]]\n"
          ]
        },
        {
          "output_type": "execute_result",
          "data": {
            "text/plain": [
              "array([[ True,  True],\n",
              "       [ True,  True]])"
            ]
          },
          "metadata": {},
          "execution_count": 79
        }
      ]
    },
    {
      "cell_type": "code",
      "source": [
        "M @ M.T # Notice that M @ M.T is a symmetric matrix:"
      ],
      "metadata": {
        "colab": {
          "base_uri": "https://localhost:8080/"
        },
        "id": "0_dsOC_Ae0BB",
        "outputId": "2bbe8b75-3a5b-4ce6-9bfe-91d87ee147e8"
      },
      "execution_count": null,
      "outputs": [
        {
          "output_type": "execute_result",
          "data": {
            "text/plain": [
              "array([[25, 17],\n",
              "       [17, 26]])"
            ]
          },
          "metadata": {},
          "execution_count": 82
        }
      ]
    },
    {
      "cell_type": "code",
      "source": [
        "scipy.linalg.inv(M)"
      ],
      "metadata": {
        "colab": {
          "base_uri": "https://localhost:8080/"
        },
        "id": "Jy1hpyRW3yaR",
        "outputId": "5be1b715-8260-42d4-fcc6-e9ee5555978d"
      },
      "execution_count": null,
      "outputs": [
        {
          "output_type": "execute_result",
          "data": {
            "text/plain": [
              "array([[ 0.26315789, -0.21052632],\n",
              "       [ 0.05263158,  0.15789474]])"
            ]
          },
          "metadata": {},
          "execution_count": 85
        }
      ]
    },
    {
      "cell_type": "code",
      "source": [
        "np.trace(M) # is the sum of the elements on the main diagonal"
      ],
      "metadata": {
        "colab": {
          "base_uri": "https://localhost:8080/"
        },
        "id": "zKEb2Gw-4Px9",
        "outputId": "c1127936-e859-43a8-9f45-b844ef5dcef1"
      },
      "execution_count": null,
      "outputs": [
        {
          "output_type": "execute_result",
          "data": {
            "text/plain": [
              "8"
            ]
          },
          "metadata": {},
          "execution_count": 88
        }
      ]
    },
    {
      "cell_type": "code",
      "source": [
        "scipy.linalg.det(A)"
      ],
      "metadata": {
        "colab": {
          "base_uri": "https://localhost:8080/"
        },
        "id": "YXn2TeeJ6N2S",
        "outputId": "4562f8a4-444c-4ed4-f997-98b033948724"
      },
      "execution_count": null,
      "outputs": [
        {
          "output_type": "execute_result",
          "data": {
            "text/plain": [
              "10.0"
            ]
          },
          "metadata": {},
          "execution_count": 89
        }
      ]
    },
    {
      "cell_type": "code",
      "source": [
        "rand_mat1 = np.random.randint(1,5,[2,2]) # random matrices\n",
        "print(rand_mat1)\n",
        "rand_mat2 = np.random.randint(0,5,[2,2]) # random matrices\n",
        "print(rand_mat2)"
      ],
      "metadata": {
        "colab": {
          "base_uri": "https://localhost:8080/"
        },
        "id": "4imKH8s56k04",
        "outputId": "a2309fd1-1c19-4779-d2b6-af8bced79a45"
      },
      "execution_count": null,
      "outputs": [
        {
          "output_type": "stream",
          "name": "stdout",
          "text": [
            "[[1 2]\n",
            " [1 4]]\n",
            "[[4 1]\n",
            " [0 4]]\n"
          ]
        }
      ]
    },
    {
      "cell_type": "code",
      "source": [
        "# sum of element-wise multiplication = matrix multiplication\n",
        "# This is zarbe dakheli\n",
        "print( rand_mat1 * rand_mat2 )\n",
        "np.sum( rand_mat1 * rand_mat2)"
      ],
      "metadata": {
        "colab": {
          "base_uri": "https://localhost:8080/"
        },
        "id": "rGw022r87Mwr",
        "outputId": "d6c12a9d-5cf5-4f6a-e1d7-b91b822be37c"
      },
      "execution_count": null,
      "outputs": [
        {
          "output_type": "stream",
          "name": "stdout",
          "text": [
            "[[ 4  2]\n",
            " [ 0 16]]\n"
          ]
        },
        {
          "output_type": "execute_result",
          "data": {
            "text/plain": [
              "22"
            ]
          },
          "metadata": {},
          "execution_count": 108
        }
      ]
    },
    {
      "cell_type": "code",
      "source": [
        "np.eye(3) # I is an identity matrix (all diagonal elements are 1)"
      ],
      "metadata": {
        "colab": {
          "base_uri": "https://localhost:8080/"
        },
        "id": "tuemm-oZWx3B",
        "outputId": "ae44f103-834b-45f3-a602-e8812a40c14f"
      },
      "execution_count": null,
      "outputs": [
        {
          "output_type": "execute_result",
          "data": {
            "text/plain": [
              "array([[1., 0., 0.],\n",
              "       [0., 1., 0.],\n",
              "       [0., 0., 1.]])"
            ]
          },
          "metadata": {},
          "execution_count": 16
        }
      ]
    },
    {
      "cell_type": "code",
      "source": [
        "a = np.array([1,2,3])\n",
        "b = np.array([4,5,6])\n",
        "print('a = \\n', a)\n",
        "print('b = \\n', b)\n",
        "print('a shape = ', a.shape, 'b shape = ', b.shape)\n",
        "print( '** WHEN THE SAME SHAPE: column vector x column vector = scalar **')\n",
        "print('inner product:', a@b , np.sum (a*b) ) # inner product\n",
        "\n",
        "print('####################')\n",
        "\n",
        "a = np.array([1,2,3]).reshape(3,1) # column vector\n",
        "b = np.array([4,5,6]).reshape(3,1) # column vector\n",
        "print('a = \\n', a)\n",
        "print('b = \\n', b)\n",
        "print('a shape = ', a.shape, 'b shape = ', b.shape)\n",
        "print( '** column vector.Transpose x column vector = scalar **')\n",
        "print( a.T@b , np.sum (a*b)) # inner product\n",
        "print('####################')\n",
        "\n",
        "a = np.array([1,2,3]).reshape(3,1)\n",
        "b = np.array([4,5,6]).reshape(3,1)\n",
        "print('a = \\n', a)\n",
        "print('b = \\n', b)\n",
        "print('a shape = ', a.shape, 'b shape = ', b.shape)\n",
        "print( '** column vector x column vector.Transpose = matrix **')\n",
        "print( a@b.T , np.sum (a*b)) # inner product"
      ],
      "metadata": {
        "colab": {
          "base_uri": "https://localhost:8080/"
        },
        "id": "-KNG73V0Vv01",
        "outputId": "e16dd191-ccd1-4ed4-e84d-90dd5e6ef37c"
      },
      "execution_count": null,
      "outputs": [
        {
          "output_type": "stream",
          "name": "stdout",
          "text": [
            "a = \n",
            " [1 2 3]\n",
            "b = \n",
            " [4 5 6]\n",
            "a shape =  (3,) b shape =  (3,)\n",
            "** WHEN THE SAME SHAPE: column vector x column vector = scalar **\n",
            "inner product: 32 32\n",
            "####################\n",
            "a = \n",
            " [[1]\n",
            " [2]\n",
            " [3]]\n",
            "b = \n",
            " [[4]\n",
            " [5]\n",
            " [6]]\n",
            "a shape =  (3, 1) b shape =  (3, 1)\n",
            "** column vector.Transpose x column vector = scalar **\n",
            "[[32]] 32\n",
            "####################\n",
            "a = \n",
            " [[1]\n",
            " [2]\n",
            " [3]]\n",
            "b = \n",
            " [[4]\n",
            " [5]\n",
            " [6]]\n",
            "a shape =  (3, 1) b shape =  (3, 1)\n",
            "** column vector x column vector.Transpose = matrix **\n",
            "[[ 4  5  6]\n",
            " [ 8 10 12]\n",
            " [12 15 18]] 32\n"
          ]
        }
      ]
    },
    {
      "cell_type": "code",
      "source": [
        "# row vector of ones\n",
        "i = np.ones(3).reshape(3,1)\n",
        "i.T@i # summation of elements in a column vector"
      ],
      "metadata": {
        "colab": {
          "base_uri": "https://localhost:8080/"
        },
        "id": "zV5apMfAcTrU",
        "outputId": "8027f9eb-edb5-429f-f2af-738451abc133"
      },
      "execution_count": null,
      "outputs": [
        {
          "output_type": "execute_result",
          "data": {
            "text/plain": [
              "array([[5.]])"
            ]
          },
          "metadata": {},
          "execution_count": 61
        }
      ]
    },
    {
      "cell_type": "code",
      "source": [
        "# row vector of ones\n",
        "i = np.ones(3).reshape(3,1)\n",
        "i@i.T # n by n matrix of 1s"
      ],
      "metadata": {
        "colab": {
          "base_uri": "https://localhost:8080/"
        },
        "id": "4U7vOgYsc2ru",
        "outputId": "46479309-2727-4660-af85-1a82689073cb"
      },
      "execution_count": null,
      "outputs": [
        {
          "output_type": "execute_result",
          "data": {
            "text/plain": [
              "array([[1., 1., 1.],\n",
              "       [1., 1., 1.],\n",
              "       [1., 1., 1.]])"
            ]
          },
          "metadata": {},
          "execution_count": 62
        }
      ]
    },
    {
      "cell_type": "code",
      "source": [
        "x = np.array([1,2,3]).reshape(3,1)\n",
        "i = np.ones(x.shape)\n",
        "i.T@x # summing the elements in x by ones vector"
      ],
      "metadata": {
        "colab": {
          "base_uri": "https://localhost:8080/"
        },
        "id": "VMKBiyAmc_zG",
        "outputId": "99a6f930-573e-43c4-d980-a64870860a86"
      },
      "execution_count": null,
      "outputs": [
        {
          "output_type": "execute_result",
          "data": {
            "text/plain": [
              "array([[6.]])"
            ]
          },
          "metadata": {},
          "execution_count": 67
        }
      ]
    },
    {
      "cell_type": "code",
      "source": [
        "x = np.array([1,2,3]).reshape(3,1)\n",
        "i = np.ones(x.shape)\n",
        "i@x.T"
      ],
      "metadata": {
        "colab": {
          "base_uri": "https://localhost:8080/"
        },
        "id": "lJV7j9xtdlWh",
        "outputId": "bfd0ce23-8d72-4751-bf01-f3ecbf370852"
      },
      "execution_count": null,
      "outputs": [
        {
          "output_type": "execute_result",
          "data": {
            "text/plain": [
              "array([[1., 2., 3.],\n",
              "       [1., 2., 3.],\n",
              "       [1., 2., 3.]])"
            ]
          },
          "metadata": {},
          "execution_count": 68
        }
      ]
    },
    {
      "cell_type": "code",
      "source": [
        "x = np.array([3,4]).reshape(2,1)\n",
        "print('summation of squared elements of x=', x.T@x)\n",
        "print('Size of the vector:\\n', np.sqrt(x.T@x) ) # fisagures"
      ],
      "metadata": {
        "colab": {
          "base_uri": "https://localhost:8080/"
        },
        "id": "SgmvXfuid5eY",
        "outputId": "1c3b69ca-c15f-462d-a5d1-14eb9706b076"
      },
      "execution_count": null,
      "outputs": [
        {
          "output_type": "stream",
          "name": "stdout",
          "text": [
            "summation of squared elements of x= [[25]]\n",
            "Size of the vector:\n",
            " [[5.]]\n"
          ]
        }
      ]
    },
    {
      "cell_type": "code",
      "source": [
        "A = np.array([1,2,3]).reshape(3,1)\n",
        "B = np.array([4,5,6]).reshape(3,1)\n",
        "print( 'A matrix of elements with (ai - bi)^2 =\\n', (A-B) @ (A-B).T)\n",
        "print( 'Summation of deviation between column vectors A and B; (ai - bi)^2 =\\n', (A-B).T @ (A-B))\n",
        "print( 'Euclidean Distance Between A and B; (ai - bi)^2 =\\n', np.sqrt( (A-B).T @ (A-B) ) )\n"
      ],
      "metadata": {
        "colab": {
          "base_uri": "https://localhost:8080/"
        },
        "id": "EBKvkR82fBR7",
        "outputId": "ed12fc4e-fbd0-44af-b571-1fc9702d5329"
      },
      "execution_count": null,
      "outputs": [
        {
          "output_type": "stream",
          "name": "stdout",
          "text": [
            "A matrix of elements with (ai - bi)^2 =\n",
            " [[9 9 9]\n",
            " [9 9 9]\n",
            " [9 9 9]]\n",
            "Summation of deviation between column vectors A and B; (ai - bi)^2 =\n",
            " [[27]]\n",
            "Euclidean Distance Between A and B; (ai - bi)^2 =\n",
            " [[5.19615242]]\n"
          ]
        }
      ]
    },
    {
      "cell_type": "code",
      "source": [
        "# matrix rank\n",
        "A = np.array([[0,1,-2] , [2,11,4], [3,3,6], [4,3,8] ])\n",
        "np.linalg.matrix_rank(A)"
      ],
      "metadata": {
        "colab": {
          "base_uri": "https://localhost:8080/"
        },
        "id": "tOTMwbFJhkzK",
        "outputId": "5273d3f4-4e3f-4184-d3b9-ffd99627f403"
      },
      "execution_count": null,
      "outputs": [
        {
          "output_type": "execute_result",
          "data": {
            "text/plain": [
              "3"
            ]
          },
          "metadata": {},
          "execution_count": 100
        }
      ]
    },
    {
      "cell_type": "code",
      "source": [
        "# Quadratic forms\n",
        "A = np.array([[1,1,-1] , [1,2,0], [-1,0,-5] ]) # n by n square symmetric matrix\n",
        "print(A)\n",
        "X = np.random.randint(0,5,A.shape[0]) # non-zero column vector n by 1\n",
        "q = X.T @ A @ X\n",
        "if q>0: print('positive definite because q is {}'.format(q) ) \n",
        "elif q<0: print('negative definite because q is {}'.format(q) )\n",
        "elif q>=0: print('nonnegative definite because q is {}'.format(q) )"
      ],
      "metadata": {
        "colab": {
          "base_uri": "https://localhost:8080/"
        },
        "id": "_9f1EkQskSaS",
        "outputId": "b8415235-08b0-48c4-9eca-1511f771a970"
      },
      "execution_count": null,
      "outputs": [
        {
          "output_type": "stream",
          "name": "stdout",
          "text": [
            "[[ 1  1 -1]\n",
            " [ 1  2  0]\n",
            " [-1  0 -5]]\n",
            "positive definite because q is 9\n"
          ]
        }
      ]
    },
    {
      "cell_type": "code",
      "source": [
        "# Quadratic forms for comparing two variance-covariance matrices (relative magnitude)\n",
        "A = np.array([[1,1,-1] , [1,2,0], [-1,0,-5] ]) # n by n square symmetric matrix\n",
        "B = np.array([[10,1,-1] , [1,20,0], [-1,0,-50] ]) # n by n square symmetric matrix\n",
        "C = A-B\n",
        "print(C)\n",
        "X = np.random.randint(0,5,C.shape[0]) # non-zero column vector n by 1\n",
        "q = X.T @ C @ X\n",
        "if q>0: print('The difference (relative magnitude) is positive definite because q is {}'.format(q) ) \n",
        "elif q<0: print('The difference (relative magnitude) is negative definite because q is {}'.format(q) )\n",
        "elif q>=0: print('The difference (relative magnitude) is nonnegative definite because q is {}'.format(q) )\n",
        "print('This also works for the Hessian Matrix to make sure that the result for a curve optimization is a maximum or a minimum.')"
      ],
      "metadata": {
        "colab": {
          "base_uri": "https://localhost:8080/"
        },
        "id": "A6YevzU8mpwv",
        "outputId": "22aa96ae-5b57-40bf-f7e2-6c4f58e6eff1"
      },
      "execution_count": null,
      "outputs": [
        {
          "output_type": "stream",
          "name": "stdout",
          "text": [
            "[[ -9   0   0]\n",
            " [  0 -18   0]\n",
            " [  0   0  45]]\n",
            "The difference (relative magnitude) is positive definite because q is 99\n",
            "This also works for the Hessian Matrix to make sure that the result for a curve optimization is a maximum or a minimum.\n"
          ]
        }
      ]
    },
    {
      "cell_type": "code",
      "source": [
        "# Eigens\n",
        "A = np.array([[1,1,-1] , [1,2,0], [-1,0,-5] ]) # n by n square symmetric matrix\n"
      ],
      "metadata": {
        "id": "xnESyFHjpAdC"
      },
      "execution_count": null,
      "outputs": []
    },
    {
      "cell_type": "markdown",
      "source": [
        "# Solving Linear Systems\n",
        "Refer to the below URL to understand the procedure:\n",
        "https://personal.math.ubc.ca/~pwalls/math-python/linear-algebra/applications/"
      ],
      "metadata": {
        "id": "9_F0SNFG904F"
      }
    },
    {
      "cell_type": "code",
      "source": [
        "A = np.array( [[1,1,2], [-1,3,1], [0,5,2]] )\n",
        "print(A)"
      ],
      "metadata": {
        "colab": {
          "base_uri": "https://localhost:8080/"
        },
        "id": "v-YCtbTH9SIs",
        "outputId": "8fcb1dfb-843a-449e-95f9-1e833666e8c7"
      },
      "execution_count": null,
      "outputs": [
        {
          "output_type": "stream",
          "name": "stdout",
          "text": [
            "[[ 1  1  2]\n",
            " [-1  3  1]\n",
            " [ 0  5  2]]\n"
          ]
        }
      ]
    },
    {
      "cell_type": "code",
      "source": [
        "# Solving linear system of equations -> Ax = b\n",
        "# 2x + y = 1\n",
        "# x  + y = -1\n",
        "A = np.array( [[2,1], [1,1]])\n",
        "print(A)\n",
        "b = np.array([1,-1]).reshape(2,1)\n",
        "print(b)\n",
        "x = np.linalg.solve(A,b)\n",
        "print('Solution for the system of equations ; x = \\n', x)"
      ],
      "metadata": {
        "colab": {
          "base_uri": "https://localhost:8080/"
        },
        "id": "9HGn973q-L_-",
        "outputId": "bbf8b4ec-9ba9-4b49-8710-30d984baeb6d"
      },
      "execution_count": null,
      "outputs": [
        {
          "output_type": "stream",
          "name": "stdout",
          "text": [
            "[[2 1]\n",
            " [1 1]]\n",
            "[[ 1]\n",
            " [-1]]\n",
            "Solution for the system of equations ; x = \n",
            " [[ 2.]\n",
            " [-3.]]\n",
            "\t OR: \n",
            "\n"
          ]
        }
      ]
    },
    {
      "cell_type": "markdown",
      "source": [
        "or,\n",
        "\n",
        "We can verify the solution by computing the inverse of A.\n",
        "\n",
        "And multiply $A^{-1}b$ to solve for x:"
      ],
      "metadata": {
        "id": "Tpw9gMbJCCIk"
      }
    },
    {
      "cell_type": "code",
      "source": [
        "np.linalg.inv(A) @ b"
      ],
      "metadata": {
        "colab": {
          "base_uri": "https://localhost:8080/"
        },
        "id": "Fl5Rwpb9BFB-",
        "outputId": "488072c4-a140-40b2-ede3-a8875690e2d8"
      },
      "execution_count": null,
      "outputs": [
        {
          "output_type": "execute_result",
          "data": {
            "text/plain": [
              "array([[ 2.],\n",
              "       [-3.]])"
            ]
          },
          "metadata": {},
          "execution_count": 117
        }
      ]
    },
    {
      "cell_type": "code",
      "source": [
        "# joining two matrices\n",
        "M = np.array([[5,4,2],[-1,2,1],[1,1,1]])\n",
        "print(M)\n",
        "A = np.hstack([M,np.eye(3)])\n",
        "print(A)\n",
        "B = np.vstack([M,np.eye(3)])\n",
        "print(B)"
      ],
      "metadata": {
        "colab": {
          "base_uri": "https://localhost:8080/"
        },
        "id": "VYCiU_ZuBms2",
        "outputId": "ae717038-4255-43ce-be32-a4a2b30ee930"
      },
      "execution_count": null,
      "outputs": [
        {
          "output_type": "stream",
          "name": "stdout",
          "text": [
            "[[ 5  4  2]\n",
            " [-1  2  1]\n",
            " [ 1  1  1]]\n",
            "[[ 5.  4.  2.  1.  0.  0.]\n",
            " [-1.  2.  1.  0.  1.  0.]\n",
            " [ 1.  1.  1.  0.  0.  1.]]\n",
            "[[ 5.  4.  2.]\n",
            " [-1.  2.  1.]\n",
            " [ 1.  1.  1.]\n",
            " [ 1.  0.  0.]\n",
            " [ 0.  1.  0.]\n",
            " [ 0.  0.  1.]]\n"
          ]
        }
      ]
    },
    {
      "cell_type": "code",
      "source": [
        "M @ np.linalg.inv(M)"
      ],
      "metadata": {
        "colab": {
          "base_uri": "https://localhost:8080/"
        },
        "id": "HUSIr9CXDnAP",
        "outputId": "517da514-2817-4c74-d3ae-0ed6b92b4b4d"
      },
      "execution_count": null,
      "outputs": [
        {
          "output_type": "execute_result",
          "data": {
            "text/plain": [
              "array([[ 1.00000000e+00, -2.77555756e-16,  0.00000000e+00],\n",
              "       [ 5.55111512e-17,  1.00000000e+00,  0.00000000e+00],\n",
              "       [ 0.00000000e+00, -2.77555756e-17,  1.00000000e+00]])"
            ]
          },
          "metadata": {},
          "execution_count": 122
        }
      ]
    },
    {
      "cell_type": "markdown",
      "source": [
        "Least Squares Linear Regression"
      ],
      "metadata": {
        "id": "36vj_IwjE5PT"
      }
    },
    {
      "cell_type": "code",
      "source": [
        "import numpy as np\n",
        "b0 = 2 # intercept (coefficient for x0 = 1)\n",
        "b1 = 3 # coefficient for x1\n",
        "# b2  = -4 # coefficient for x2\n",
        "N = 100 # number of datapoints\n",
        "x1 = np.random.rand(100) # x1 vector\n",
        "# x2 = np.random.rand(100) # x2 vector\n",
        "noise = 0.1 * np.random.randn(100) # randn produces random numbers between 0 and 1\n",
        "Y = b0 + b1 * x1 + noise\n",
        "# Y = b0 + b1 * x1 + b2 * x2 + noise\n",
        "import matplotlib.pyplot as plt\n",
        "plt.scatter(x1,Y, color = 'b')\n",
        "plt.show()\n",
        "# plt.scatter(x2,Y, color = 'r')\n",
        "# plt.show()"
      ],
      "metadata": {
        "colab": {
          "base_uri": "https://localhost:8080/",
          "height": 265
        },
        "id": "AK5bkHmqEB5n",
        "outputId": "a23d2cf4-2d5c-4c8b-8fb0-5db5de64d6c3"
      },
      "execution_count": null,
      "outputs": [
        {
          "output_type": "display_data",
          "data": {
            "text/plain": [
              "<Figure size 432x288 with 1 Axes>"
            ],
            "image/png": "[encoded data removed]"
          },
          "metadata": {
            "needs_background": "light"
          }
        }
      ]
    },
    {
      "cell_type": "code",
      "source": [
        "# joining a columns of x0=1 and x1 (explanatory variables)\n",
        "X = np.column_stack([np.ones(N),x1]) # X[:,1] is equivalent to x1\n",
        "# X = np.column_stack([np.ones(N),x1, x2]) # X[:,1] is equivalent to x1, X[:,2] is equivalent to x2\n",
        "print(X.shape)\n",
        "X[:5,:]"
      ],
      "metadata": {
        "colab": {
          "base_uri": "https://localhost:8080/"
        },
        "id": "mvhmAg0gGC_n",
        "outputId": "7e072f2e-8b85-4301-904c-afa7368c90a9"
      },
      "execution_count": null,
      "outputs": [
        {
          "output_type": "stream",
          "name": "stdout",
          "text": [
            "(100, 2)\n"
          ]
        },
        {
          "output_type": "execute_result",
          "data": {
            "text/plain": [
              "array([[1.        , 0.13331894],\n",
              "       [1.        , 0.53943609],\n",
              "       [1.        , 0.82367892],\n",
              "       [1.        , 0.14427006],\n",
              "       [1.        , 0.40797993]])"
            ]
          },
          "metadata": {},
          "execution_count": 95
        }
      ]
    },
    {
      "cell_type": "code",
      "source": [
        "# X B = Y\n",
        "# (X.T X) a = X.T Y\n",
        "# 0 = X.T Y - (X.T X) a\n",
        "# X.T ( Y - X B ) = 0\n",
        "# or solve to get the solution for B (coefficient matrix) containing b0 and b1\n",
        "# (X.T X) B = X.T Y\n",
        "B = np.linalg.solve( X.T@X , X.T@Y) # Beta Coefficients\n",
        "print(B)\n"
      ],
      "metadata": {
        "colab": {
          "base_uri": "https://localhost:8080/"
        },
        "id": "fXuUVc05HJa_",
        "outputId": "5e8cab05-28a9-46f6-b851-c05fa9b697bd"
      },
      "execution_count": null,
      "outputs": [
        {
          "output_type": "stream",
          "name": "stdout",
          "text": [
            "[2.01433016 2.99798365]\n"
          ]
        }
      ]
    },
    {
      "cell_type": "markdown",
      "source": [
        "Or, we can do the math and solve it manually as below:"
      ],
      "metadata": {
        "id": "54MDhPNmjo91"
      }
    },
    {
      "cell_type": "code",
      "source": [
        "B = np.linalg.inv(X.T@X) @ X.T @ Y\n",
        "print(B)"
      ],
      "metadata": {
        "colab": {
          "base_uri": "https://localhost:8080/"
        },
        "id": "_sF8VV6WjRkZ",
        "outputId": "9f8dece5-5fc0-4881-8d82-f6861293a2fb"
      },
      "execution_count": null,
      "outputs": [
        {
          "output_type": "stream",
          "name": "stdout",
          "text": [
            "[2.01433016 2.99798365]\n"
          ]
        }
      ]
    },
    {
      "cell_type": "code",
      "source": [
        "# plot the random data points with the linear regression we just computed.\n",
        "xs = np.linspace(0,1,10)\n",
        "print(B)\n",
        "print('B:\\n', B)\n",
        "print('B[0] = ', B[0])\n",
        "print('B[1] = ', B[1])\n",
        "# print('B[2] = ', B[2])\n",
        "\n",
        "ys1 = B[0] + B[1] * xs\n",
        "plt.plot( xs, ys1, 'r', linewidth = 4)\n",
        "plt.scatter(X[:,1],Y) # X[:,1] is equivalent to x1\n",
        "plt.show()\n",
        "\n",
        "# ys2 = B[0] + B[2] * xs\n",
        "# plt.plot( xs, ys2, 'r', linewidth = 4)\n",
        "# plt.scatter(X[:,2],Y) # X[:,2] is equivalent to x2\n",
        "# plt.show()"
      ],
      "metadata": {
        "colab": {
          "base_uri": "https://localhost:8080/",
          "height": 351
        },
        "id": "wDdxs2_-H08_",
        "outputId": "235f01a8-4944-4f09-ffe3-ca38a2ce6c84"
      },
      "execution_count": null,
      "outputs": [
        {
          "output_type": "stream",
          "name": "stdout",
          "text": [
            "[2.01392531 2.9904884 ]\n",
            "B:\n",
            " [2.01392531 2.9904884 ]\n",
            "B[0] =  2.0139253056539506\n",
            "B[1] =  2.9904883972454117\n"
          ]
        },
        {
          "output_type": "display_data",
          "data": {
            "text/plain": [
              "<Figure size 432x288 with 1 Axes>"
            ],
            "image/png": "[encoded data removed]"
          },
          "metadata": {
            "needs_background": "light"
          }
        }
      ]
    },
    {
      "cell_type": "markdown",
      "source": [
        "# Polynomial Regression\n",
        "https://personal.math.ubc.ca/~pwalls/math-python/linear-algebra/applications/#polynomial-regression"
      ],
      "metadata": {
        "id": "tHtS7dxLrz-8"
      }
    },
    {
      "cell_type": "code",
      "source": [
        "b0 = 3\n",
        "b1 = 5\n",
        "b2 = 8\n",
        "N = 1000\n",
        "x = 2*np.random.rand(N) - 1 # Random numbers in the interval (-1,1)\n",
        "noise = np.random.randn(N)\n",
        "Y = b0 + b1*x + b2*x**2 + noise\n",
        "plt.scatter(x,y,alpha=0.5,lw=0);\n",
        "plt.show()"
      ],
      "metadata": {
        "colab": {
          "base_uri": "https://localhost:8080/",
          "height": 265
        },
        "id": "58PXj6bIPb4Y",
        "outputId": "e29f68c0-d84e-4b66-c585-5bac00800d53"
      },
      "execution_count": null,
      "outputs": [
        {
          "output_type": "display_data",
          "data": {
            "text/plain": [
              "<Figure size 432x288 with 1 Axes>"
            ],
            "image/png": "[encoded data removed]"
          },
          "metadata": {
            "needs_background": "light"
          }
        }
      ]
    },
    {
      "cell_type": "code",
      "source": [
        "# Construct the matrix X\n",
        "X = np.column_stack([ np.ones(N) , x , x**2 ])\n",
        "B = np.linalg.solve( (X.T @ X) , X.T @ Y)\n",
        "B"
      ],
      "metadata": {
        "colab": {
          "base_uri": "https://localhost:8080/"
        },
        "id": "SwfB3p8VsIvP",
        "outputId": "2cd3e9b1-f53d-4397-eeae-78f51ab5b55b"
      },
      "execution_count": null,
      "outputs": [
        {
          "output_type": "execute_result",
          "data": {
            "text/plain": [
              "array([2.95037011, 4.962699  , 8.0174145 ])"
            ]
          },
          "metadata": {},
          "execution_count": 125
        }
      ]
    },
    {
      "cell_type": "code",
      "source": [
        "# or, equavalently:\n",
        "B = np.linalg.inv(X.T@X) @ X.T @ Y\n",
        "B"
      ],
      "metadata": {
        "colab": {
          "base_uri": "https://localhost:8080/"
        },
        "id": "U93O2prDuUNb",
        "outputId": "ab5c7a9e-c026-4a17-a022-05a2286328aa"
      },
      "execution_count": null,
      "outputs": [
        {
          "output_type": "execute_result",
          "data": {
            "text/plain": [
              "array([2.95037011, 4.962699  , 8.0174145 ])"
            ]
          },
          "metadata": {},
          "execution_count": 127
        }
      ]
    },
    {
      "cell_type": "markdown",
      "source": [
        "# Graph Theory by Matrix Manipulation\n",
        "https://personal.math.ubc.ca/~pwalls/math-python/linear-algebra/applications/#graph-theory"
      ],
      "metadata": {
        "id": "bIJqV6WZu4F5"
      }
    },
    {
      "cell_type": "code",
      "source": [
        ""
      ],
      "metadata": {
        "id": "fUQb0dnlu3tf"
      },
      "execution_count": null,
      "outputs": []
    },
    {
      "cell_type": "code",
      "source": [
        ""
      ],
      "metadata": {
        "id": "ar6PPTDAuVcm"
      },
      "execution_count": null,
      "outputs": []
    },
    {
      "cell_type": "markdown",
      "source": [
        "# sympy"
      ],
      "metadata": {
        "id": "7E8DDvJE1Nr1"
      }
    },
    {
      "cell_type": "code",
      "source": [
        "import sympy\n",
        "sympy.init_printing(use_latex = 'mathjax')\n",
        "A = np.array([[1,1,-1] , [1,2,0], [-1,0,-5] ])\n",
        "A = sympy.Matrix( A )\n",
        "A"
      ],
      "metadata": {
        "colab": {
          "base_uri": "https://localhost:8080/",
          "height": 78
        },
        "id": "BzCj2BQ81NAi",
        "outputId": "1819ecd6-bb42-477c-be2e-5900b84cd77d"
      },
      "execution_count": null,
      "outputs": [
        {
          "output_type": "execute_result",
          "data": {
            "text/plain": [
              "⎡1   1  -1⎤\n",
              "⎢         ⎥\n",
              "⎢1   2  0 ⎥\n",
              "⎢         ⎥\n",
              "⎣-1  0  -5⎦"
            ],
            "text/latex": "$\\displaystyle \\left[\\begin{matrix}1 & 1 & -1\\\\1 & 2 & 0\\\\-1 & 0 & -5\\end{matrix}\\right]$"
          },
          "metadata": {},
          "execution_count": 134
        }
      ]
    },
    {
      "cell_type": "code",
      "source": [
        "A.T@A"
      ],
      "metadata": {
        "colab": {
          "base_uri": "https://localhost:8080/",
          "height": 78
        },
        "id": "6wqq1aR31aAK",
        "outputId": "7d50a21a-f6bb-402e-f6c7-ffda56663934"
      },
      "execution_count": null,
      "outputs": [
        {
          "output_type": "execute_result",
          "data": {
            "text/plain": [
              "⎡3  3   4 ⎤\n",
              "⎢         ⎥\n",
              "⎢3  5   -1⎥\n",
              "⎢         ⎥\n",
              "⎣4  -1  26⎦"
            ],
            "text/latex": "$\\displaystyle \\left[\\begin{matrix}3 & 3 & 4\\\\3 & 5 & -1\\\\4 & -1 & 26\\end{matrix}\\right]$"
          },
          "metadata": {},
          "execution_count": 136
        }
      ]
    },
    {
      "cell_type": "code",
      "source": [
        ""
      ],
      "metadata": {
        "id": "pn9Ec7e810tK"
      },
      "execution_count": null,
      "outputs": []
    },
    {
      "cell_type": "code",
      "source": [
        ""
      ],
      "metadata": {
        "id": "7p_x1kEw2NFe"
      },
      "execution_count": null,
      "outputs": []
    }
  ]
}